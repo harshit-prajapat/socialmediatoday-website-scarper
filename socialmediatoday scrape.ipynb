{
 "cells": [
  {
   "cell_type": "code",
   "execution_count": 1,
   "id": "better-denver",
   "metadata": {},
   "outputs": [],
   "source": [
    "import requests\n",
    "from bs4 import BeautifulSoup\n",
    "import re"
   ]
  },
  {
   "cell_type": "code",
   "execution_count": 2,
   "id": "pending-albuquerque",
   "metadata": {},
   "outputs": [],
   "source": [
    "#main url of the site\n",
    "url = 'https://www.socialmediatoday.com/?page='"
   ]
  },
  {
   "cell_type": "code",
   "execution_count": 3,
   "id": "reduced-vietnamese",
   "metadata": {},
   "outputs": [],
   "source": [
    "urls = []\n",
    "# scraping the first five pages of the website for article links\n",
    "for i in range(1, 6):\n",
    "    urls.append(url + str(i))"
   ]
  },
  {
   "cell_type": "code",
   "execution_count": 4,
   "id": "optical-housing",
   "metadata": {},
   "outputs": [
    {
     "data": {
      "text/plain": [
       "['https://www.socialmediatoday.com/?page=1',\n",
       " 'https://www.socialmediatoday.com/?page=2',\n",
       " 'https://www.socialmediatoday.com/?page=3',\n",
       " 'https://www.socialmediatoday.com/?page=4',\n",
       " 'https://www.socialmediatoday.com/?page=5']"
      ]
     },
     "execution_count": 4,
     "metadata": {},
     "output_type": "execute_result"
    }
   ],
   "source": [
    "urls"
   ]
  },
  {
   "cell_type": "code",
   "execution_count": 5,
   "id": "respective-central",
   "metadata": {},
   "outputs": [],
   "source": [
    "def get_article_links(url, links):\n",
    "    raw_content = requests.get(url)\n",
    "    soup = BeautifulSoup(raw_content.text, 'html.parser')\n",
    "#     links = []\n",
    "    \n",
    "    for link in soup.find_all('a', attrs = {'href': re.compile('^/news/'), 'class': re.compile('^analytics t-dash-feed-item-\\d')}):\n",
    "#         print(link.text)\n",
    "        links.append(link['href'])\n",
    "        \n",
    "#     return links"
   ]
  },
  {
   "cell_type": "code",
   "execution_count": 7,
   "id": "deluxe-standard",
   "metadata": {},
   "outputs": [],
   "source": [
    "links = []\n",
    "for i in range(len(urls)):\n",
    "    get_article_links(urls[i], links)"
   ]
  },
  {
   "cell_type": "code",
   "execution_count": 8,
   "id": "regional-reconstruction",
   "metadata": {
    "scrolled": true
   },
   "outputs": [
    {
     "data": {
      "text/plain": [
       "['/news/meta-releases-new-insights-into-its-evolving-efforts-to-detect-coordinated/617531/',\n",
       " '/news/reddits-experimenting-with-nft-profile-pictures-leaning-into-audience-tre/617542/',\n",
       " '/news/new-survey-shows-that-social-media-users-are-increasingly-concerned-about-d/617548/',\n",
       " '/news/12-helpful-seo-tools-for-your-brand-in-2022-infographic/617547/',\n",
       " '/news/twitter-launches-new-nft-profile-image-display-option-to-twitter-blue-subsc/617457/',\n",
       " '/news/instagram-expands-video-remix-option-to-all-videos-not-just-reels-clips/617465/',\n",
       " '/news/meta-plans-to-establish-an-nft-marketplace-expanding-beyond-profile-pictur/617453/',\n",
       " '/news/instagram-will-now-reduce-the-reach-of-posts-that-are-likely-to-contain-b/617478/',\n",
       " '/news/snapchat-shares-new-insights-into-user-engagement-around-valentines-day-i/617474/',\n",
       " '/news/messenger-kids-launches-new-digital-literacy-initiative-to-better-educate-y/617470/',\n",
       " '/news/meta-announces-planned-integration-of-whatsapp-into-its-workplace-platform/617480/',\n",
       " '/news/instagram-launches-live-test-of-fan-subscriptions-providing-more-monetizat/617376/',\n",
       " '/news/twitter-publishes-new-industry-trend-reports-based-on-rising-areas-of-tweet/617317/',\n",
       " '/news/youtube-moves-away-from-original-programming-to-focus-on-creator-funding-in/617382/',\n",
       " '/news/twitter-finally-brings-communities-to-its-android-app/617385/',\n",
       " '/news/linkedin-adds-new-courses-on-building-your-linkedin-presence-new-alert-and/617400/',\n",
       " '/news/how-to-conduct-a-social-media-audit-infographic/617394/',\n",
       " '/news/tiktok-looks-to-expand-content-horizons-with-new-integrated-stories-test/617301/',\n",
       " '/news/twitters-latest-promotional-campaign-focuses-on-celebrities-whove-manifes/617307/',\n",
       " '/news/snapchat-adds-new-limits-on-adults-seeking-to-connect-with-minors-in-the-ap/617310/',\n",
       " '/news/tiktok-adds-insights-on-the-latest-trending-songs-by-region-to-its-trend-di/617331/',\n",
       " '/news/twitter-expands-its-test-of-user-reported-misinformation-expanding-platfor/617302/',\n",
       " '/news/new-report-highlights-the-rise-of-social-media-shopping-infographic/617315/',\n",
       " '/news/meta-publishes-new-guide-to-the-various-security-and-control-options-in-its/617238/',\n",
       " '/news/twitter-tests-new-column-creation-tools-in-tweetdeck/617231/',\n",
       " '/news/mr-beast-takes-the-top-spot-in-forbes-2021-youtube-earners-list/617226/',\n",
       " '/news/twitter-launches-new-program-to-help-healthcare-providers-stay-up-to-date-o/617233/',\n",
       " '/news/twitter-publishes-new-guide-on-what-consumers-expect-from-brands-via-tweet/617112/',\n",
       " '/news/the-anatomy-of-content-marketing-12-types-of-content-to-add-to-your-arsena/617155/',\n",
       " '/news/pinterest-shares-new-insights-into-how-men-are-using-the-app-in-their-shopp/617147/',\n",
       " '/news/twitter-rolls-out-spaces-recording-for-all-users/617178/',\n",
       " '/news/meta-outlines-policy-requirements-for-businesses-looking-to-advertise-and-s/617152/',\n",
       " '/news/metas-npe-team-continues-to-shift-focus-with-the-shutdown-of-another-exper/617182/',\n",
       " '/news/snapchat-adds-new-features-to-facilitate-fun-interaction-including-emoji-p/617084/',\n",
       " '/news/youtube-adds-new-filters-to-its-video-performance-chart-enabling-more-spec/617085/',\n",
       " '/news/twitters-coming-nft-profile-display-option-moves-to-next-stage-of-testing/617087/',\n",
       " '/news/7-email-marketing-trends-all-business-owners-and-marketers-should-know-in-2/617110/',\n",
       " '/news/hootsuites-social-media-image-size-guide-for-2022-infographic/617109/',\n",
       " '/news/the-damelio-sisters-lead-the-tiktok-top-earners-list-once-again-in-2021/617107/',\n",
       " '/news/instagram-sees-boost-in-download-numbers-as-usage-grows-in-india/617088/',\n",
       " '/news/twitter-publishes-2022-major-events-calendar-to-assist-with-your-marketing/617010/',\n",
       " '/news/twitter-looks-to-extend-its-keyword-blocking-and-mute-options-to-more-eleme/617006/',\n",
       " '/news/meta-faces-another-antitrust-challenge-with-the-ftcs-case-against-the-com/617028/',\n",
       " '/news/twitter-activates-new-custom-like-animation-for-the-latest-scream-film/617008/',\n",
       " '/news/an-overview-of-googles-algorithm-updates-in-2021-infographic/617013/',\n",
       " '/news/which-social-media-apps-have-the-biggest-impact-on-sleep-patterns-infogra/617012/',\n",
       " '/news/tiktok-shares-new-data-on-the-value-of-collaborating-with-creators-on-ad-ca/616923/',\n",
       " '/news/instagrams-testing-a-new-option-which-would-enable-users-to-re-arrange-the/616956/',\n",
       " '/news/twitter-shares-new-insights-into-the-evolving-gaming-conversation-via-tweet/616927/',\n",
       " '/news/tiktok-publishes-new-report-on-the-capacity-to-drive-offline-sales-via-tikt/616920/',\n",
       " '/news/instagram-tests-new-status-display-to-provide-more-context-on-what-your-c/616953/',\n",
       " '/news/twitter-testing-new-search-prompts-above-the-main-feed-in-the-app/616957/',\n",
       " '/news/ecommerce-statistics-and-trends-for-2022-infographic/616929/',\n",
       " '/news/facebook-launches-new-privacy-center-to-facilitate-more-control-over-priv/616847/',\n",
       " '/news/tiktoks-testing-a-new-option-to-invite-your-connections-in-other-apps-to-v/616880/',\n",
       " '/news/social-media-fuels-division-and-angst-but-solving-the-underlying-issues-a/616881/',\n",
       " '/news/pinterest-adds-profiles-tab-to-search-results-to-better-highlight-pin-cre/616853/',\n",
       " '/news/instagram-turns-on-ig-live-badges-by-default-for-eligible-creators/616858/',\n",
       " '/news/twitter-launches-live-test-of-full-screen-visual-tweet-reactions/616792/',\n",
       " '/news/10-important-google-search-algorithm-updates-in-2021-infographic/616778/',\n",
       " '/news/linkedin-launches-test-of-audio-rooms-announces-new-formats-for-live-event/616776/',\n",
       " '/news/5-social-media-trends-that-cmos-must-know-in-2022-infographic/616779/',\n",
       " '/news/twitter-tests-new-placement-for-the-tweet-composer-to-encourage-more-activi/616798/',\n",
       " '/news/clubhouse-adds-new-way-to-share-rooms-additional-analytics-and-access-opti/616789/',\n",
       " '/news/tiktok-content-is-coming-to-more-screens-via-new-deal-with-atmosphere/616782/',\n",
       " '/news/twitter-adds-spaces-replay-stats-for-recorded-broadcasts/616796/',\n",
       " '/news/facebook-adds-new-features-to-creator-studio-including-stories-highlights/616718/',\n",
       " '/news/twitters-testing-advanced-search-tools-for-direct-messages/616721/',\n",
       " '/news/facebook-encourages-more-developers-to-integrate-facebook-stories-sharing-i/616714/',\n",
       " '/news/instagram-launches-initial-test-of-algorithm-free-reverse-chronological-fe/616711/',\n",
       " '/news/pinterest-shares-new-insights-into-how-brands-can-enhance-appeal-among-gen/616716/',\n",
       " '/news/key-holidays-and-celebrations-of-note-for-2022-infographic/616731/',\n",
       " '/news/twitter-tests-new-topics-bar-above-the-main-timeline-to-highlight-relevant/616635/',\n",
       " '/news/12-digital-marketing-trends-all-business-owners-and-marketers-should-know-i/616647/',\n",
       " '/news/tiktok-shares-new-insights-into-the-importance-of-audio-in-brand-marketing/616633/',\n",
       " '/news/meta-releases-new-insights-into-its-evolving-efforts-to-detect-coordinated/617531/',\n",
       " '/news/reddits-experimenting-with-nft-profile-pictures-leaning-into-audience-tre/617542/',\n",
       " '/news/new-survey-shows-that-social-media-users-are-increasingly-concerned-about-d/617548/',\n",
       " '/news/12-helpful-seo-tools-for-your-brand-in-2022-infographic/617547/',\n",
       " '/news/twitter-launches-new-nft-profile-image-display-option-to-twitter-blue-subsc/617457/',\n",
       " '/news/instagram-expands-video-remix-option-to-all-videos-not-just-reels-clips/617465/',\n",
       " '/news/meta-plans-to-establish-an-nft-marketplace-expanding-beyond-profile-pictur/617453/',\n",
       " '/news/instagram-will-now-reduce-the-reach-of-posts-that-are-likely-to-contain-b/617478/',\n",
       " '/news/snapchat-shares-new-insights-into-user-engagement-around-valentines-day-i/617474/',\n",
       " '/news/messenger-kids-launches-new-digital-literacy-initiative-to-better-educate-y/617470/',\n",
       " '/news/meta-announces-planned-integration-of-whatsapp-into-its-workplace-platform/617480/',\n",
       " '/news/instagram-launches-live-test-of-fan-subscriptions-providing-more-monetizat/617376/',\n",
       " '/news/twitter-publishes-new-industry-trend-reports-based-on-rising-areas-of-tweet/617317/',\n",
       " '/news/youtube-moves-away-from-original-programming-to-focus-on-creator-funding-in/617382/',\n",
       " '/news/twitter-finally-brings-communities-to-its-android-app/617385/',\n",
       " '/news/linkedin-adds-new-courses-on-building-your-linkedin-presence-new-alert-and/617400/',\n",
       " '/news/how-to-conduct-a-social-media-audit-infographic/617394/',\n",
       " '/news/tiktok-looks-to-expand-content-horizons-with-new-integrated-stories-test/617301/',\n",
       " '/news/twitters-latest-promotional-campaign-focuses-on-celebrities-whove-manifes/617307/',\n",
       " '/news/snapchat-adds-new-limits-on-adults-seeking-to-connect-with-minors-in-the-ap/617310/',\n",
       " '/news/tiktok-adds-insights-on-the-latest-trending-songs-by-region-to-its-trend-di/617331/',\n",
       " '/news/twitter-expands-its-test-of-user-reported-misinformation-expanding-platfor/617302/',\n",
       " '/news/new-report-highlights-the-rise-of-social-media-shopping-infographic/617315/',\n",
       " '/news/meta-publishes-new-guide-to-the-various-security-and-control-options-in-its/617238/',\n",
       " '/news/twitter-tests-new-column-creation-tools-in-tweetdeck/617231/',\n",
       " '/news/meta-releases-new-insights-into-its-evolving-efforts-to-detect-coordinated/617531/',\n",
       " '/news/reddits-experimenting-with-nft-profile-pictures-leaning-into-audience-tre/617542/',\n",
       " '/news/new-survey-shows-that-social-media-users-are-increasingly-concerned-about-d/617548/',\n",
       " '/news/12-helpful-seo-tools-for-your-brand-in-2022-infographic/617547/',\n",
       " '/news/twitter-launches-new-nft-profile-image-display-option-to-twitter-blue-subsc/617457/',\n",
       " '/news/instagram-expands-video-remix-option-to-all-videos-not-just-reels-clips/617465/',\n",
       " '/news/meta-plans-to-establish-an-nft-marketplace-expanding-beyond-profile-pictur/617453/',\n",
       " '/news/instagram-will-now-reduce-the-reach-of-posts-that-are-likely-to-contain-b/617478/',\n",
       " '/news/snapchat-shares-new-insights-into-user-engagement-around-valentines-day-i/617474/',\n",
       " '/news/messenger-kids-launches-new-digital-literacy-initiative-to-better-educate-y/617470/',\n",
       " '/news/meta-announces-planned-integration-of-whatsapp-into-its-workplace-platform/617480/',\n",
       " '/news/instagram-launches-live-test-of-fan-subscriptions-providing-more-monetizat/617376/',\n",
       " '/news/twitter-publishes-new-industry-trend-reports-based-on-rising-areas-of-tweet/617317/',\n",
       " '/news/youtube-moves-away-from-original-programming-to-focus-on-creator-funding-in/617382/',\n",
       " '/news/twitter-finally-brings-communities-to-its-android-app/617385/',\n",
       " '/news/linkedin-adds-new-courses-on-building-your-linkedin-presence-new-alert-and/617400/',\n",
       " '/news/how-to-conduct-a-social-media-audit-infographic/617394/',\n",
       " '/news/tiktok-looks-to-expand-content-horizons-with-new-integrated-stories-test/617301/',\n",
       " '/news/twitters-latest-promotional-campaign-focuses-on-celebrities-whove-manifes/617307/',\n",
       " '/news/snapchat-adds-new-limits-on-adults-seeking-to-connect-with-minors-in-the-ap/617310/',\n",
       " '/news/tiktok-adds-insights-on-the-latest-trending-songs-by-region-to-its-trend-di/617331/',\n",
       " '/news/twitter-expands-its-test-of-user-reported-misinformation-expanding-platfor/617302/',\n",
       " '/news/new-report-highlights-the-rise-of-social-media-shopping-infographic/617315/',\n",
       " '/news/meta-publishes-new-guide-to-the-various-security-and-control-options-in-its/617238/',\n",
       " '/news/twitter-tests-new-column-creation-tools-in-tweetdeck/617231/']"
      ]
     },
     "execution_count": 8,
     "metadata": {},
     "output_type": "execute_result"
    }
   ],
   "source": [
    "links"
   ]
  },
  {
   "cell_type": "code",
   "execution_count": 9,
   "id": "loving-weekend",
   "metadata": {},
   "outputs": [
    {
     "name": "stdout",
     "output_type": "stream",
     "text": [
      "https://www.socialmediatoday.com/news/meta-releases-new-insights-into-its-evolving-efforts-to-detect-coordinated/617531/\n"
     ]
    }
   ],
   "source": [
    "#since the urls we got are not complete, we are appending the initial part of the site\n",
    "append_str = 'https://www.socialmediatoday.com'\n",
    "\n",
    "for i in range(len(links)):\n",
    "    links[i] = append_str + links[i]\n",
    "    \n",
    "print(links[0])"
   ]
  },
  {
   "cell_type": "code",
   "execution_count": 10,
   "id": "needed-scale",
   "metadata": {},
   "outputs": [
    {
     "data": {
      "text/plain": [
       "125"
      ]
     },
     "execution_count": 10,
     "metadata": {},
     "output_type": "execute_result"
    }
   ],
   "source": [
    "len(links)"
   ]
  },
  {
   "cell_type": "code",
   "execution_count": 11,
   "id": "directed-development",
   "metadata": {},
   "outputs": [
    {
     "data": {
      "text/plain": [
       "75"
      ]
     },
     "execution_count": 11,
     "metadata": {},
     "output_type": "execute_result"
    }
   ],
   "source": [
    "#removing duplicate links\n",
    "links = list(set(links))\n",
    "len(links)"
   ]
  },
  {
   "cell_type": "code",
   "execution_count": 12,
   "id": "bearing-travel",
   "metadata": {},
   "outputs": [],
   "source": [
    "def get_article(soup, article):\n",
    "    #heading \n",
    "    heading = soup.find('h1', {'class': 'display-heading-04'})\n",
    "    \n",
    "    #published date\n",
    "    published = soup.find('span', {'class': 'published-info'})\n",
    "    \n",
    "    #author\n",
    "    author = soup.find('a', {'rel': 'author'})\n",
    "    \n",
    "    #content\n",
    "    content = soup.find('div', {'class': 'large medium article-body'})\n",
    "    \n",
    "    text_content = content.text.split('.')\n",
    "    for i in range(len(text_content)):\n",
    "        text_content[i] = text_content[i].replace('\\n', '')\n",
    "    final_content = '. '.join(text_content)\n",
    "    \n",
    "    #tags\n",
    "    tags = soup.find('a', {'class': 'topic analytics t-article-end-topic'})\n",
    "    \n",
    "    article['heading'].append(heading.text.strip('\\n'))\n",
    "    article['published'].append(published.text.strip('\\n'))\n",
    "    article['author'].append(author.text)\n",
    "    article['content'].append(final_content)\n",
    "    article['tags'].append(tags.text)"
   ]
  },
  {
   "cell_type": "code",
   "execution_count": 13,
   "id": "alternate-silver",
   "metadata": {},
   "outputs": [],
   "source": [
    "article = {'heading': [], 'author': [], 'published': [], 'content': [], 'tags': []}\n",
    "\n",
    "for i in range(0, len(links)):\n",
    "    req = requests.get(links[i])\n",
    "    if req.status_code == 200:\n",
    "        soup = BeautifulSoup(req.text, 'html.parser')\n",
    "        get_article(soup, article)\n",
    "        \n",
    "# print(article['heading'])"
   ]
  },
  {
   "cell_type": "code",
   "execution_count": 14,
   "id": "monetary-bolivia",
   "metadata": {},
   "outputs": [
    {
     "data": {
      "text/plain": [
       "75"
      ]
     },
     "execution_count": 14,
     "metadata": {},
     "output_type": "execute_result"
    }
   ],
   "source": [
    "len(article['heading']) ##at the time of error"
   ]
  },
  {
   "cell_type": "code",
   "execution_count": 15,
   "id": "crazy-treaty",
   "metadata": {},
   "outputs": [
    {
     "data": {
      "text/html": [
       "<div>\n",
       "<style scoped>\n",
       "    .dataframe tbody tr th:only-of-type {\n",
       "        vertical-align: middle;\n",
       "    }\n",
       "\n",
       "    .dataframe tbody tr th {\n",
       "        vertical-align: top;\n",
       "    }\n",
       "\n",
       "    .dataframe thead th {\n",
       "        text-align: right;\n",
       "    }\n",
       "</style>\n",
       "<table border=\"1\" class=\"dataframe\">\n",
       "  <thead>\n",
       "    <tr style=\"text-align: right;\">\n",
       "      <th></th>\n",
       "      <th>heading</th>\n",
       "      <th>author</th>\n",
       "      <th>published</th>\n",
       "      <th>content</th>\n",
       "      <th>tags</th>\n",
       "    </tr>\n",
       "  </thead>\n",
       "  <tbody>\n",
       "    <tr>\n",
       "      <th>0</th>\n",
       "      <td>TikTok Shares New Insights into the Importance...</td>\n",
       "      <td>Andrew Hutchinson</td>\n",
       "      <td>Published Jan. 4, 2022</td>\n",
       "      <td>Unlike other video platforms, which have tradi...</td>\n",
       "      <td>Content Marketing,</td>\n",
       "    </tr>\n",
       "    <tr>\n",
       "      <th>1</th>\n",
       "      <td>Instagram Will Now Reduce the Reach of Posts T...</td>\n",
       "      <td>Andrew Hutchinson</td>\n",
       "      <td>Published Jan. 20, 2022</td>\n",
       "      <td>Instagram is implementing new measures that wi...</td>\n",
       "      <td>Social Media Updates</td>\n",
       "    </tr>\n",
       "    <tr>\n",
       "      <th>2</th>\n",
       "      <td>TikTok Shares New Data on the Value of Collabo...</td>\n",
       "      <td>Andrew Hutchinson</td>\n",
       "      <td>Published Jan. 10, 2022</td>\n",
       "      <td>The key to winning on TikTok is aligning with ...</td>\n",
       "      <td>Digital Strategy,</td>\n",
       "    </tr>\n",
       "    <tr>\n",
       "      <th>3</th>\n",
       "      <td>Pinterest Adds 'Profiles' Tab to Search Result...</td>\n",
       "      <td>Andrew Hutchinson</td>\n",
       "      <td>Published Jan. 7, 2022</td>\n",
       "      <td>Pinterest is looking to improve creator discov...</td>\n",
       "      <td>Digital Strategy,</td>\n",
       "    </tr>\n",
       "    <tr>\n",
       "      <th>4</th>\n",
       "      <td>Twitter Testing New Search Prompts Above the M...</td>\n",
       "      <td>Andrew Hutchinson</td>\n",
       "      <td>Published Jan. 10, 2022</td>\n",
       "      <td>Here’s a relatively small, but potentially val...</td>\n",
       "      <td>Social Media Updates</td>\n",
       "    </tr>\n",
       "  </tbody>\n",
       "</table>\n",
       "</div>"
      ],
      "text/plain": [
       "                                             heading             author  \\\n",
       "0  TikTok Shares New Insights into the Importance...  Andrew Hutchinson   \n",
       "1  Instagram Will Now Reduce the Reach of Posts T...  Andrew Hutchinson   \n",
       "2  TikTok Shares New Data on the Value of Collabo...  Andrew Hutchinson   \n",
       "3  Pinterest Adds 'Profiles' Tab to Search Result...  Andrew Hutchinson   \n",
       "4  Twitter Testing New Search Prompts Above the M...  Andrew Hutchinson   \n",
       "\n",
       "                 published                                            content  \\\n",
       "0   Published Jan. 4, 2022  Unlike other video platforms, which have tradi...   \n",
       "1  Published Jan. 20, 2022  Instagram is implementing new measures that wi...   \n",
       "2  Published Jan. 10, 2022  The key to winning on TikTok is aligning with ...   \n",
       "3   Published Jan. 7, 2022  Pinterest is looking to improve creator discov...   \n",
       "4  Published Jan. 10, 2022  Here’s a relatively small, but potentially val...   \n",
       "\n",
       "                   tags  \n",
       "0   Content Marketing,   \n",
       "1  Social Media Updates  \n",
       "2    Digital Strategy,   \n",
       "3    Digital Strategy,   \n",
       "4  Social Media Updates  "
      ]
     },
     "execution_count": 15,
     "metadata": {},
     "output_type": "execute_result"
    }
   ],
   "source": [
    "import pandas as pd\n",
    "\n",
    "df = pd.DataFrame(article)\n",
    "df.head()"
   ]
  },
  {
   "cell_type": "code",
   "execution_count": 16,
   "id": "rolled-coverage",
   "metadata": {},
   "outputs": [],
   "source": [
    "df.to_csv('articles.csv')"
   ]
  },
  {
   "cell_type": "code",
   "execution_count": null,
   "id": "burning-repair",
   "metadata": {},
   "outputs": [],
   "source": []
  },
  {
   "cell_type": "code",
   "execution_count": null,
   "id": "alternate-lincoln",
   "metadata": {},
   "outputs": [],
   "source": []
  }
 ],
 "metadata": {
  "kernelspec": {
   "display_name": "Python 3",
   "language": "python",
   "name": "python3"
  },
  "language_info": {
   "codemirror_mode": {
    "name": "ipython",
    "version": 3
   },
   "file_extension": ".py",
   "mimetype": "text/x-python",
   "name": "python",
   "nbconvert_exporter": "python",
   "pygments_lexer": "ipython3",
   "version": "3.8.1"
  }
 },
 "nbformat": 4,
 "nbformat_minor": 5
}
